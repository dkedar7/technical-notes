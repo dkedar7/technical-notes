{
 "cells": [
  {
   "cell_type": "raw",
   "id": "bed8a435",
   "metadata": {
    "vscode": {
     "languageId": "raw"
    }
   },
   "source": [
    "---\n",
    "title: \"GraphRAG from Microsoft\"\n",
    "author: \"Kedar Dabhadkar\"\n",
    "date: 2024-10-19\n",
    "description: \"Using Microsoft's GraphRAG library for RAG\"\n",
    "type: technical_note\n",
    "draft: true\n",
    "categories: [\"LLM\"]\n",
    "---"
   ]
  },
  {
   "cell_type": "raw",
   "id": "156784ab",
   "metadata": {},
   "source": []
  },
  {
   "cell_type": "markdown",
   "id": "cd9ad1c2-3a38-4f96-8b04-f7f9cf0e7216",
   "metadata": {},
   "source": [
    "#### Install GraphRAG"
   ]
  },
  {
   "cell_type": "code",
   "execution_count": 2,
   "id": "132b8baf-2f09-4d2a-a95e-ac4876d4f3ba",
   "metadata": {},
   "outputs": [],
   "source": [
    "# !pip install graphrag"
   ]
  },
  {
   "cell_type": "code",
   "execution_count": 3,
   "id": "b1320258-7c1c-45e7-b59a-82ac13d4134f",
   "metadata": {},
   "outputs": [],
   "source": [
    "import os\n",
    "\n",
    "import pandas as pd\n",
    "import tiktoken"
   ]
  },
  {
   "cell_type": "code",
   "execution_count": 5,
   "id": "2c5e2734-4c78-459e-bcc3-511e3f5e00e4",
   "metadata": {},
   "outputs": [
    {
     "ename": "ModuleNotFoundError",
     "evalue": "No module named 'graphrag'",
     "output_type": "error",
     "traceback": [
      "\u001b[0;31m---------------------------------------------------------------------------\u001b[0m",
      "\u001b[0;31mModuleNotFoundError\u001b[0m                       Traceback (most recent call last)",
      "Cell \u001b[0;32mIn[5], line 1\u001b[0m\n\u001b[0;32m----> 1\u001b[0m \u001b[38;5;28;01mfrom\u001b[39;00m \u001b[38;5;21;01mgraphrag\u001b[39;00m\u001b[38;5;21;01m.\u001b[39;00m\u001b[38;5;21;01mquery\u001b[39;00m\u001b[38;5;21;01m.\u001b[39;00m\u001b[38;5;21;01mcontext_builder\u001b[39;00m\u001b[38;5;21;01m.\u001b[39;00m\u001b[38;5;21;01mentity_extraction\u001b[39;00m \u001b[38;5;28;01mimport\u001b[39;00m EntityVectorStoreKey\n",
      "\u001b[0;31mModuleNotFoundError\u001b[0m: No module named 'graphrag'"
     ]
    }
   ],
   "source": [
    "from graphrag.query.context_builder.entity_extraction import EntityVectorStoreKey"
   ]
  },
  {
   "cell_type": "code",
   "execution_count": null,
   "id": "1747af56-8e79-43d9-a1d2-190f24d5c262",
   "metadata": {},
   "outputs": [],
   "source": []
  }
 ],
 "metadata": {
  "kernelspec": {
   "display_name": "swanbot-backend",
   "language": "python",
   "name": "swanbot-backend"
  },
  "language_info": {
   "codemirror_mode": {
    "name": "ipython",
    "version": 3
   },
   "file_extension": ".py",
   "mimetype": "text/x-python",
   "name": "python",
   "nbconvert_exporter": "python",
   "pygments_lexer": "ipython3",
   "version": "3.11.5"
  }
 },
 "nbformat": 4,
 "nbformat_minor": 5
}
